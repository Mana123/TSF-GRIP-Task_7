{
 "cells": [
  {
   "cell_type": "markdown",
   "metadata": {
    "id": "mTCmZkeeD3Os"
   },
   "source": [
    "# **Manasa Holla**\n",
    "\n",
    "#### Task #7 - Create a hybrid model for stock price/performance prediction\n",
    "####               using numerical analysis of historical stock prices, and sentimental analysis of\n",
    "####               news headlines"
   ]
  },
  {
   "cell_type": "code",
   "execution_count": 39,
   "metadata": {
    "id": "z4t2bu93Dn_t"
   },
   "outputs": [],
   "source": [
    "import numpy as np\n",
    "import pandas as pd\n",
    "import seaborn as sns\n",
    "import matplotlib.pyplot as plt\n",
    "%matplotlib inline\n",
    "\n",
    "import datetime\n",
    "import pandas_datareader.data as web\n",
    "from pandas import Series, DataFrame\n",
    "#web data reader is extension of pandas library to communicate with frequently updating data"
   ]
  },
  {
   "cell_type": "code",
   "execution_count": 40,
   "metadata": {
    "colab": {
     "base_uri": "https://localhost:8080/",
     "height": 225
    },
    "id": "sS4yz74OFTVf",
    "outputId": "17f66968-747c-43fb-a470-e5aee23647fb"
   },
   "outputs": [
    {
     "data": {
      "text/html": [
       "<div>\n",
       "<style scoped>\n",
       "    .dataframe tbody tr th:only-of-type {\n",
       "        vertical-align: middle;\n",
       "    }\n",
       "\n",
       "    .dataframe tbody tr th {\n",
       "        vertical-align: top;\n",
       "    }\n",
       "\n",
       "    .dataframe thead th {\n",
       "        text-align: right;\n",
       "    }\n",
       "</style>\n",
       "<table border=\"1\" class=\"dataframe\">\n",
       "  <thead>\n",
       "    <tr style=\"text-align: right;\">\n",
       "      <th></th>\n",
       "      <th>High</th>\n",
       "      <th>Low</th>\n",
       "      <th>Open</th>\n",
       "      <th>Close</th>\n",
       "      <th>Volume</th>\n",
       "      <th>Adj Close</th>\n",
       "    </tr>\n",
       "    <tr>\n",
       "      <th>Date</th>\n",
       "      <th></th>\n",
       "      <th></th>\n",
       "      <th></th>\n",
       "      <th></th>\n",
       "      <th></th>\n",
       "      <th></th>\n",
       "    </tr>\n",
       "  </thead>\n",
       "  <tbody>\n",
       "    <tr>\n",
       "      <th>2019-12-24</th>\n",
       "      <td>157.710007</td>\n",
       "      <td>157.119995</td>\n",
       "      <td>157.479996</td>\n",
       "      <td>157.380005</td>\n",
       "      <td>8989200.0</td>\n",
       "      <td>155.372406</td>\n",
       "    </tr>\n",
       "    <tr>\n",
       "      <th>2019-12-26</th>\n",
       "      <td>158.729996</td>\n",
       "      <td>157.399994</td>\n",
       "      <td>157.559998</td>\n",
       "      <td>158.669998</td>\n",
       "      <td>14520600.0</td>\n",
       "      <td>156.645950</td>\n",
       "    </tr>\n",
       "    <tr>\n",
       "      <th>2019-12-27</th>\n",
       "      <td>159.550003</td>\n",
       "      <td>158.220001</td>\n",
       "      <td>159.449997</td>\n",
       "      <td>158.960007</td>\n",
       "      <td>18412800.0</td>\n",
       "      <td>156.932251</td>\n",
       "    </tr>\n",
       "    <tr>\n",
       "      <th>2019-12-30</th>\n",
       "      <td>159.020004</td>\n",
       "      <td>156.729996</td>\n",
       "      <td>158.990005</td>\n",
       "      <td>157.589996</td>\n",
       "      <td>16348400.0</td>\n",
       "      <td>155.579727</td>\n",
       "    </tr>\n",
       "    <tr>\n",
       "      <th>2019-12-31</th>\n",
       "      <td>157.770004</td>\n",
       "      <td>156.449997</td>\n",
       "      <td>156.770004</td>\n",
       "      <td>157.699997</td>\n",
       "      <td>18369400.0</td>\n",
       "      <td>155.688324</td>\n",
       "    </tr>\n",
       "  </tbody>\n",
       "</table>\n",
       "</div>"
      ],
      "text/plain": [
       "                  High         Low        Open       Close      Volume  \\\n",
       "Date                                                                     \n",
       "2019-12-24  157.710007  157.119995  157.479996  157.380005   8989200.0   \n",
       "2019-12-26  158.729996  157.399994  157.559998  158.669998  14520600.0   \n",
       "2019-12-27  159.550003  158.220001  159.449997  158.960007  18412800.0   \n",
       "2019-12-30  159.020004  156.729996  158.990005  157.589996  16348400.0   \n",
       "2019-12-31  157.770004  156.449997  156.770004  157.699997  18369400.0   \n",
       "\n",
       "             Adj Close  \n",
       "Date                    \n",
       "2019-12-24  155.372406  \n",
       "2019-12-26  156.645950  \n",
       "2019-12-27  156.932251  \n",
       "2019-12-30  155.579727  \n",
       "2019-12-31  155.688324  "
      ]
     },
     "execution_count": 40,
     "metadata": {},
     "output_type": "execute_result"
    }
   ],
   "source": [
    "start = datetime.datetime(2000, 1, 1)\n",
    "end = datetime.datetime(2019, 12, 31)\n",
    "\n",
    "df = web.DataReader(\"MSFT\", 'yahoo', start, end)\n",
    "df.tail()"
   ]
  },
  {
   "cell_type": "markdown",
   "metadata": {
    "id": "8N-WAQ6rHLgM"
   },
   "source": [
    "We have the data of Microsoft stocks of 19 years from January 2000 till December 2019.\n",
    "\n",
    "\n",
    "\n",
    "\n"
   ]
  },
  {
   "cell_type": "markdown",
   "metadata": {
    "id": "vvkp5iSGH_g3"
   },
   "source": [
    "We analyse stocks using two measurements- Rolling mean and Return rate.\n"
   ]
  },
  {
   "cell_type": "markdown",
   "metadata": {
    "id": "lBTq5ZjuIBOf"
   },
   "source": [
    "Rolling Mean - Rolling is a very useful operation for time series data. Rolling means creating a rolling window with a specified size and perform calculations on the data in this window which, of course, rolls through the data.\n",
    "In pandas"
   ]
  },
  {
   "cell_type": "markdown",
   "metadata": {
    "id": "iAAx3JDFI2X0"
   },
   "source": [
    "Moving Average- technical analysis tool that smooths out price data by creating a constantly updated average price."
   ]
  },
  {
   "cell_type": "code",
   "execution_count": 41,
   "metadata": {
    "colab": {
     "base_uri": "https://localhost:8080/"
    },
    "id": "KhEjA8dVHhwg",
    "outputId": "5c865a0f-bbea-4a01-b0cb-09cf9baabada"
   },
   "outputs": [
    {
     "data": {
      "text/plain": [
       "Date\n",
       "1999-12-31   NaN\n",
       "2000-01-03   NaN\n",
       "2000-01-04   NaN\n",
       "2000-01-05   NaN\n",
       "2000-01-06   NaN\n",
       "2000-01-07   NaN\n",
       "2000-01-10   NaN\n",
       "2000-01-11   NaN\n",
       "2000-01-12   NaN\n",
       "2000-01-13   NaN\n",
       "2000-01-14   NaN\n",
       "2000-01-18   NaN\n",
       "2000-01-19   NaN\n",
       "2000-01-20   NaN\n",
       "2000-01-21   NaN\n",
       "2000-01-24   NaN\n",
       "2000-01-25   NaN\n",
       "2000-01-26   NaN\n",
       "2000-01-27   NaN\n",
       "2000-01-28   NaN\n",
       "2000-01-31   NaN\n",
       "2000-02-01   NaN\n",
       "2000-02-02   NaN\n",
       "2000-02-03   NaN\n",
       "2000-02-04   NaN\n",
       "2000-02-07   NaN\n",
       "2000-02-08   NaN\n",
       "2000-02-09   NaN\n",
       "2000-02-10   NaN\n",
       "2000-02-11   NaN\n",
       "2000-02-14   NaN\n",
       "2000-02-15   NaN\n",
       "2000-02-16   NaN\n",
       "2000-02-17   NaN\n",
       "2000-02-18   NaN\n",
       "2000-02-22   NaN\n",
       "2000-02-23   NaN\n",
       "2000-02-24   NaN\n",
       "2000-02-25   NaN\n",
       "2000-02-28   NaN\n",
       "2000-02-29   NaN\n",
       "2000-03-01   NaN\n",
       "2000-03-02   NaN\n",
       "2000-03-03   NaN\n",
       "2000-03-06   NaN\n",
       "2000-03-07   NaN\n",
       "2000-03-08   NaN\n",
       "2000-03-09   NaN\n",
       "2000-03-10   NaN\n",
       "2000-03-13   NaN\n",
       "Name: Adj Close, dtype: float64"
      ]
     },
     "execution_count": 41,
     "metadata": {},
     "output_type": "execute_result"
    }
   ],
   "source": [
    "close_px = df['Adj Close']\n",
    "mavg = close_px.rolling(window = 100).mean()\n",
    "mavg.head(50)"
   ]
  },
  {
   "cell_type": "code",
   "execution_count": 42,
   "metadata": {
    "colab": {
     "base_uri": "https://localhost:8080/",
     "height": 566
    },
    "id": "1HA_YBHNJT9Z",
    "outputId": "84675b6c-560b-4b94-bf36-a78aefcb1851"
   },
   "outputs": [
    {
     "data": {
      "image/png": "[encoded data removed]",
      "text/plain": [
       "<Figure size 720x720 with 1 Axes>"
      ]
     },
     "metadata": {},
     "output_type": "display_data"
    }
   ],
   "source": [
    "%matplotlib inline\n",
    "import matplotlib.pyplot as plt\n",
    "from matplotlib import style\n",
    "\n",
    "#adjust the size of matplotlib\n",
    "import matplotlib as npl\n",
    "npl.rc('figure', figsize=(10,10))\n",
    "npl.__version__\n",
    "\n",
    "#adjust the style of matplotlib\n",
    "style.use('ggplot')\n",
    "\n",
    "close_px.plot(label = \"MSFT\")\n",
    "mavg.plot(label = 'mavg')\n",
    "plt.legend()\n",
    "plt.show()"
   ]
  },
  {
   "cell_type": "markdown",
   "metadata": {
    "id": "0T3K5lu_KleO"
   },
   "source": [
    "**Return deviation - determine risk and return**\n",
    "\n",
    "Expected return measures the expected value/mean of investment returns.\n",
    "Expected return is calculated by multiplying the weights of each asset by expected and adding value value for each investment."
   ]
  },
  {
   "cell_type": "code",
   "execution_count": 43,
   "metadata": {
    "colab": {
     "base_uri": "https://localhost:8080/",
     "height": 566
    },
    "id": "Ykd-OOo5Larx",
    "outputId": "ac8d5988-34c1-4f76-9188-45a5d53fefb0"
   },
   "outputs": [
    {
     "data": {
      "image/png": "[encoded data removed]",
      "text/plain": [
       "<Figure size 720x720 with 1 Axes>"
      ]
     },
     "metadata": {},
     "output_type": "display_data"
    }
   ],
   "source": [
    "rets = close_px / close_px.shift(1)  - 1\n",
    "rets.plot(label = 'return')\n",
    "plt.show()"
   ]
  },
  {
   "cell_type": "markdown",
   "metadata": {
    "id": "p5g_jkLpNjyV"
   },
   "source": [
    "Analyze stocks of various IT giants like Microsoft, Apple, Amazon, Google ,IBM"
   ]
  },
  {
   "cell_type": "code",
   "execution_count": 44,
   "metadata": {
    "colab": {
     "base_uri": "https://localhost:8080/",
     "height": 225
    },
    "id": "cRxgModjM1Lp",
    "outputId": "fe6715d0-2193-4c46-b652-ee4e3efec92d"
   },
   "outputs": [
    {
     "data": {
      "text/html": [
       "<div>\n",
       "<style scoped>\n",
       "    .dataframe tbody tr th:only-of-type {\n",
       "        vertical-align: middle;\n",
       "    }\n",
       "\n",
       "    .dataframe tbody tr th {\n",
       "        vertical-align: top;\n",
       "    }\n",
       "\n",
       "    .dataframe thead th {\n",
       "        text-align: right;\n",
       "    }\n",
       "</style>\n",
       "<table border=\"1\" class=\"dataframe\">\n",
       "  <thead>\n",
       "    <tr style=\"text-align: right;\">\n",
       "      <th>Symbols</th>\n",
       "      <th>MSFT</th>\n",
       "      <th>AAPL</th>\n",
       "      <th>AMZN</th>\n",
       "      <th>GOOG</th>\n",
       "      <th>IBM</th>\n",
       "    </tr>\n",
       "    <tr>\n",
       "      <th>Date</th>\n",
       "      <th></th>\n",
       "      <th></th>\n",
       "      <th></th>\n",
       "      <th></th>\n",
       "      <th></th>\n",
       "    </tr>\n",
       "  </thead>\n",
       "  <tbody>\n",
       "    <tr>\n",
       "      <th>1999-12-31</th>\n",
       "      <td>37.076923</td>\n",
       "      <td>0.790705</td>\n",
       "      <td>76.1250</td>\n",
       "      <td>NaN</td>\n",
       "      <td>67.785484</td>\n",
       "    </tr>\n",
       "    <tr>\n",
       "      <th>2000-01-03</th>\n",
       "      <td>37.017384</td>\n",
       "      <td>0.860883</td>\n",
       "      <td>89.3750</td>\n",
       "      <td>NaN</td>\n",
       "      <td>72.891006</td>\n",
       "    </tr>\n",
       "    <tr>\n",
       "      <th>2000-01-04</th>\n",
       "      <td>35.766914</td>\n",
       "      <td>0.788302</td>\n",
       "      <td>81.9375</td>\n",
       "      <td>NaN</td>\n",
       "      <td>70.416786</td>\n",
       "    </tr>\n",
       "    <tr>\n",
       "      <th>2000-01-05</th>\n",
       "      <td>36.144032</td>\n",
       "      <td>0.799837</td>\n",
       "      <td>69.7500</td>\n",
       "      <td>NaN</td>\n",
       "      <td>72.891006</td>\n",
       "    </tr>\n",
       "    <tr>\n",
       "      <th>2000-01-06</th>\n",
       "      <td>34.933285</td>\n",
       "      <td>0.730621</td>\n",
       "      <td>65.5625</td>\n",
       "      <td>NaN</td>\n",
       "      <td>71.634270</td>\n",
       "    </tr>\n",
       "  </tbody>\n",
       "</table>\n",
       "</div>"
      ],
      "text/plain": [
       "Symbols          MSFT      AAPL     AMZN  GOOG        IBM\n",
       "Date                                                     \n",
       "1999-12-31  37.076923  0.790705  76.1250   NaN  67.785484\n",
       "2000-01-03  37.017384  0.860883  89.3750   NaN  72.891006\n",
       "2000-01-04  35.766914  0.788302  81.9375   NaN  70.416786\n",
       "2000-01-05  36.144032  0.799837  69.7500   NaN  72.891006\n",
       "2000-01-06  34.933285  0.730621  65.5625   NaN  71.634270"
      ]
     },
     "execution_count": 44,
     "metadata": {},
     "output_type": "execute_result"
    }
   ],
   "source": [
    "dfcomp = web.DataReader(['MSFT' , 'AAPL' , 'AMZN' , 'GOOG' , 'IBM'], 'yahoo', start=start, end=end)['Adj Close']\n",
    "dfcomp.head()"
   ]
  },
  {
   "cell_type": "markdown",
   "metadata": {
    "id": "_YPWMYVjOcLn"
   },
   "source": [
    "Correlation analysis using correlation function in pandas"
   ]
  },
  {
   "cell_type": "code",
   "execution_count": 45,
   "metadata": {
    "colab": {
     "base_uri": "https://localhost:8080/",
     "height": 373
    },
    "id": "IMnfVAfwOnBa",
    "outputId": "baf9a67d-76ad-466b-871e-172674153702"
   },
   "outputs": [
    {
     "data": {
      "text/html": [
       "<div>\n",
       "<style scoped>\n",
       "    .dataframe tbody tr th:only-of-type {\n",
       "        vertical-align: middle;\n",
       "    }\n",
       "\n",
       "    .dataframe tbody tr th {\n",
       "        vertical-align: top;\n",
       "    }\n",
       "\n",
       "    .dataframe thead th {\n",
       "        text-align: right;\n",
       "    }\n",
       "</style>\n",
       "<table border=\"1\" class=\"dataframe\">\n",
       "  <thead>\n",
       "    <tr style=\"text-align: right;\">\n",
       "      <th>Symbols</th>\n",
       "      <th>MSFT</th>\n",
       "      <th>AAPL</th>\n",
       "      <th>AMZN</th>\n",
       "      <th>GOOG</th>\n",
       "      <th>IBM</th>\n",
       "    </tr>\n",
       "    <tr>\n",
       "      <th>Date</th>\n",
       "      <th></th>\n",
       "      <th></th>\n",
       "      <th></th>\n",
       "      <th></th>\n",
       "      <th></th>\n",
       "    </tr>\n",
       "  </thead>\n",
       "  <tbody>\n",
       "    <tr>\n",
       "      <th>1999-12-31</th>\n",
       "      <td>NaN</td>\n",
       "      <td>NaN</td>\n",
       "      <td>NaN</td>\n",
       "      <td>NaN</td>\n",
       "      <td>NaN</td>\n",
       "    </tr>\n",
       "    <tr>\n",
       "      <th>2000-01-03</th>\n",
       "      <td>-0.001606</td>\n",
       "      <td>0.088754</td>\n",
       "      <td>0.174056</td>\n",
       "      <td>NaN</td>\n",
       "      <td>0.075319</td>\n",
       "    </tr>\n",
       "    <tr>\n",
       "      <th>2000-01-04</th>\n",
       "      <td>-0.033781</td>\n",
       "      <td>-0.084310</td>\n",
       "      <td>-0.083217</td>\n",
       "      <td>NaN</td>\n",
       "      <td>-0.033944</td>\n",
       "    </tr>\n",
       "    <tr>\n",
       "      <th>2000-01-05</th>\n",
       "      <td>0.010544</td>\n",
       "      <td>0.014633</td>\n",
       "      <td>-0.148741</td>\n",
       "      <td>NaN</td>\n",
       "      <td>0.035137</td>\n",
       "    </tr>\n",
       "    <tr>\n",
       "      <th>2000-01-06</th>\n",
       "      <td>-0.033498</td>\n",
       "      <td>-0.086538</td>\n",
       "      <td>-0.060036</td>\n",
       "      <td>NaN</td>\n",
       "      <td>-0.017241</td>\n",
       "    </tr>\n",
       "    <tr>\n",
       "      <th>2000-01-07</th>\n",
       "      <td>0.013068</td>\n",
       "      <td>0.047369</td>\n",
       "      <td>0.061010</td>\n",
       "      <td>NaN</td>\n",
       "      <td>-0.004386</td>\n",
       "    </tr>\n",
       "    <tr>\n",
       "      <th>2000-01-10</th>\n",
       "      <td>0.007291</td>\n",
       "      <td>-0.017588</td>\n",
       "      <td>-0.005391</td>\n",
       "      <td>NaN</td>\n",
       "      <td>0.039648</td>\n",
       "    </tr>\n",
       "    <tr>\n",
       "      <th>2000-01-11</th>\n",
       "      <td>-0.025613</td>\n",
       "      <td>-0.051151</td>\n",
       "      <td>-0.035230</td>\n",
       "      <td>NaN</td>\n",
       "      <td>0.008474</td>\n",
       "    </tr>\n",
       "    <tr>\n",
       "      <th>2000-01-12</th>\n",
       "      <td>-0.032571</td>\n",
       "      <td>-0.059973</td>\n",
       "      <td>-0.047753</td>\n",
       "      <td>NaN</td>\n",
       "      <td>0.004202</td>\n",
       "    </tr>\n",
       "    <tr>\n",
       "      <th>2000-01-13</th>\n",
       "      <td>0.018902</td>\n",
       "      <td>0.109677</td>\n",
       "      <td>0.037365</td>\n",
       "      <td>NaN</td>\n",
       "      <td>-0.010460</td>\n",
       "    </tr>\n",
       "  </tbody>\n",
       "</table>\n",
       "</div>"
      ],
      "text/plain": [
       "Symbols         MSFT      AAPL      AMZN  GOOG       IBM\n",
       "Date                                                    \n",
       "1999-12-31       NaN       NaN       NaN   NaN       NaN\n",
       "2000-01-03 -0.001606  0.088754  0.174056   NaN  0.075319\n",
       "2000-01-04 -0.033781 -0.084310 -0.083217   NaN -0.033944\n",
       "2000-01-05  0.010544  0.014633 -0.148741   NaN  0.035137\n",
       "2000-01-06 -0.033498 -0.086538 -0.060036   NaN -0.017241\n",
       "2000-01-07  0.013068  0.047369  0.061010   NaN -0.004386\n",
       "2000-01-10  0.007291 -0.017588 -0.005391   NaN  0.039648\n",
       "2000-01-11 -0.025613 -0.051151 -0.035230   NaN  0.008474\n",
       "2000-01-12 -0.032571 -0.059973 -0.047753   NaN  0.004202\n",
       "2000-01-13  0.018902  0.109677  0.037365   NaN -0.010460"
      ]
     },
     "execution_count": 45,
     "metadata": {},
     "output_type": "execute_result"
    }
   ],
   "source": [
    "retscomp = dfcomp.pct_change()\n",
    "corr = retscomp.corr()\n",
    "retscomp.head(10)"
   ]
  },
  {
   "cell_type": "markdown",
   "metadata": {
    "id": "ylGIP4rjO4Lq"
   },
   "source": [
    "using heat maps to visualize correlation range of various stocks"
   ]
  },
  {
   "cell_type": "code",
   "execution_count": 46,
   "metadata": {
    "colab": {
     "base_uri": "https://localhost:8080/",
     "height": 579
    },
    "id": "KiS3YzHKPAQk",
    "outputId": "594e3674-53ac-4742-e690-02da817b3be2"
   },
   "outputs": [
    {
     "data": {
      "image/png": "[encoded data removed]",
      "text/plain": [
       "<Figure size 720x720 with 2 Axes>"
      ]
     },
     "metadata": {},
     "output_type": "display_data"
    }
   ],
   "source": [
    "plt.imshow(corr, cmap = 'hot', interpolation='none')\n",
    "plt.colorbar()\n",
    "plt.xticks(range(len(corr)), corr.columns)\n",
    "plt.yticks(range(len(corr)), corr.columns);"
   ]
  },
  {
   "cell_type": "markdown",
   "metadata": {
    "id": "S5Jan7wRPpch"
   },
   "source": [
    "Stocks Return rate and Risk"
   ]
  },
  {
   "cell_type": "code",
   "execution_count": 47,
   "metadata": {
    "colab": {
     "base_uri": "https://localhost:8080/",
     "height": 609
    },
    "id": "RlphRQKpPtCg",
    "outputId": "0c301f87-de03-4115-8dd9-db07bb7896ec"
   },
   "outputs": [
    {
     "data": {
      "image/png": "[encoded data removed]",
      "text/plain": [
       "<Figure size 720x720 with 1 Axes>"
      ]
     },
     "metadata": {},
     "output_type": "display_data"
    }
   ],
   "source": [
    "plt.scatter(retscomp.mean(), retscomp.std())\n",
    "plt.xlabel('Expected returns')\n",
    "plt.ylabel('Risk')\n",
    "for label, x, y in zip(retscomp.columns, retscomp.mean(), retscomp.std()):\n",
    "  plt.annotate(label, xy = (x, y), xytext = (20, -20),\n",
    "               textcoords = 'offset points', ha = 'right', va = 'bottom',\n",
    "               bbox = dict(boxstyle = 'round, pad = 0.5', fc  = 'yellow',\n",
    "                           alpha = 0.5), arrowprops = dict(arrowstyle = '->',\n",
    "                                                           connectionstyle = 'arc3,rad = 0'))"
   ]
  },
  {
   "cell_type": "markdown",
   "metadata": {
    "id": "pmfi6jDERRDr"
   },
   "source": [
    "Importing News-Headlines files for numerical analysis"
   ]
  },
  {
   "cell_type": "code",
   "execution_count": 48,
   "metadata": {
    "colab": {
     "base_uri": "https://localhost:8080/",
     "height": 343
    },
    "id": "bjZbf3cBRXl8",
    "outputId": "db407ce1-7c07-4e47-fbba-693939d56d88"
   },
   "outputs": [
    {
     "data": {
      "text/html": [
       "<div>\n",
       "<style scoped>\n",
       "    .dataframe tbody tr th:only-of-type {\n",
       "        vertical-align: middle;\n",
       "    }\n",
       "\n",
       "    .dataframe tbody tr th {\n",
       "        vertical-align: top;\n",
       "    }\n",
       "\n",
       "    .dataframe thead th {\n",
       "        text-align: right;\n",
       "    }\n",
       "</style>\n",
       "<table border=\"1\" class=\"dataframe\">\n",
       "  <thead>\n",
       "    <tr style=\"text-align: right;\">\n",
       "      <th></th>\n",
       "      <th>publish_date</th>\n",
       "      <th>headline_category</th>\n",
       "      <th>headline_text</th>\n",
       "    </tr>\n",
       "  </thead>\n",
       "  <tbody>\n",
       "    <tr>\n",
       "      <th>0</th>\n",
       "      <td>20010102</td>\n",
       "      <td>unknown</td>\n",
       "      <td>Status quo will not be disturbed at Ayodhya; s...</td>\n",
       "    </tr>\n",
       "    <tr>\n",
       "      <th>1</th>\n",
       "      <td>20010102</td>\n",
       "      <td>unknown</td>\n",
       "      <td>Fissures in Hurriyat over Pak visit</td>\n",
       "    </tr>\n",
       "    <tr>\n",
       "      <th>2</th>\n",
       "      <td>20010102</td>\n",
       "      <td>unknown</td>\n",
       "      <td>America's unwanted heading for India?</td>\n",
       "    </tr>\n",
       "    <tr>\n",
       "      <th>3</th>\n",
       "      <td>20010102</td>\n",
       "      <td>unknown</td>\n",
       "      <td>For bigwigs; it is destination Goa</td>\n",
       "    </tr>\n",
       "    <tr>\n",
       "      <th>4</th>\n",
       "      <td>20010102</td>\n",
       "      <td>unknown</td>\n",
       "      <td>Extra buses to clear tourist traffic</td>\n",
       "    </tr>\n",
       "    <tr>\n",
       "      <th>5</th>\n",
       "      <td>20010102</td>\n",
       "      <td>unknown</td>\n",
       "      <td>Dilute the power of transfers; says Riberio</td>\n",
       "    </tr>\n",
       "    <tr>\n",
       "      <th>6</th>\n",
       "      <td>20010102</td>\n",
       "      <td>unknown</td>\n",
       "      <td>Focus shifts to teaching of Hindi</td>\n",
       "    </tr>\n",
       "    <tr>\n",
       "      <th>7</th>\n",
       "      <td>20010102</td>\n",
       "      <td>unknown</td>\n",
       "      <td>IT will become compulsory in schools</td>\n",
       "    </tr>\n",
       "    <tr>\n",
       "      <th>8</th>\n",
       "      <td>20010102</td>\n",
       "      <td>unknown</td>\n",
       "      <td>Move to stop freedom fighters' pension flayed</td>\n",
       "    </tr>\n",
       "    <tr>\n",
       "      <th>9</th>\n",
       "      <td>20010102</td>\n",
       "      <td>unknown</td>\n",
       "      <td>Gilani claims he applied for passport 2 years ago</td>\n",
       "    </tr>\n",
       "  </tbody>\n",
       "</table>\n",
       "</div>"
      ],
      "text/plain": [
       "   publish_date headline_category  \\\n",
       "0      20010102           unknown   \n",
       "1      20010102           unknown   \n",
       "2      20010102           unknown   \n",
       "3      20010102           unknown   \n",
       "4      20010102           unknown   \n",
       "5      20010102           unknown   \n",
       "6      20010102           unknown   \n",
       "7      20010102           unknown   \n",
       "8      20010102           unknown   \n",
       "9      20010102           unknown   \n",
       "\n",
       "                                       headline_text  \n",
       "0  Status quo will not be disturbed at Ayodhya; s...  \n",
       "1                Fissures in Hurriyat over Pak visit  \n",
       "2              America's unwanted heading for India?  \n",
       "3                 For bigwigs; it is destination Goa  \n",
       "4               Extra buses to clear tourist traffic  \n",
       "5        Dilute the power of transfers; says Riberio  \n",
       "6                  Focus shifts to teaching of Hindi  \n",
       "7               IT will become compulsory in schools  \n",
       "8      Move to stop freedom fighters' pension flayed  \n",
       "9  Gilani claims he applied for passport 2 years ago  "
      ]
     },
     "execution_count": 48,
     "metadata": {},
     "output_type": "execute_result"
    }
   ],
   "source": [
    "df1 = pd.read_csv('india-news-headlines.csv')\n",
    "df1.head(10)"
   ]
  },
  {
   "cell_type": "code",
   "execution_count": 49,
   "metadata": {
    "colab": {
     "base_uri": "https://localhost:8080/",
     "height": 343
    },
    "id": "Tw5H9x4xfcD8",
    "outputId": "663f937e-156b-45d5-997b-1c815dd6cb59"
   },
   "outputs": [
    {
     "data": {
      "text/html": [
       "<div>\n",
       "<style scoped>\n",
       "    .dataframe tbody tr th:only-of-type {\n",
       "        vertical-align: middle;\n",
       "    }\n",
       "\n",
       "    .dataframe tbody tr th {\n",
       "        vertical-align: top;\n",
       "    }\n",
       "\n",
       "    .dataframe thead th {\n",
       "        text-align: right;\n",
       "    }\n",
       "</style>\n",
       "<table border=\"1\" class=\"dataframe\">\n",
       "  <thead>\n",
       "    <tr style=\"text-align: right;\">\n",
       "      <th></th>\n",
       "      <th>publish_date</th>\n",
       "      <th>headline_category</th>\n",
       "      <th>headline_text</th>\n",
       "    </tr>\n",
       "  </thead>\n",
       "  <tbody>\n",
       "    <tr>\n",
       "      <th>3424057</th>\n",
       "      <td>20201231</td>\n",
       "      <td>india</td>\n",
       "      <td>50 NRIs reach Singhu; offer help to farmers</td>\n",
       "    </tr>\n",
       "    <tr>\n",
       "      <th>3424058</th>\n",
       "      <td>20201231</td>\n",
       "      <td>city.amritsar</td>\n",
       "      <td>Navjot Singh Sidhu tweets apology; says 'wore ...</td>\n",
       "    </tr>\n",
       "    <tr>\n",
       "      <th>3424059</th>\n",
       "      <td>20201231</td>\n",
       "      <td>city.bengaluru</td>\n",
       "      <td>Azim Premji organisation's name misused to che...</td>\n",
       "    </tr>\n",
       "    <tr>\n",
       "      <th>3424060</th>\n",
       "      <td>20201231</td>\n",
       "      <td>india</td>\n",
       "      <td>Get govt nod to probe officials: MP to agencies</td>\n",
       "    </tr>\n",
       "    <tr>\n",
       "      <th>3424061</th>\n",
       "      <td>20201231</td>\n",
       "      <td>city.bengaluru</td>\n",
       "      <td>Peddler nabbed; 10kg ganja seized in Anantapur...</td>\n",
       "    </tr>\n",
       "    <tr>\n",
       "      <th>3424062</th>\n",
       "      <td>20201231</td>\n",
       "      <td>city.jodhpur</td>\n",
       "      <td>Covid-19: Despite dip in cases; Rajasthan amon...</td>\n",
       "    </tr>\n",
       "    <tr>\n",
       "      <th>3424063</th>\n",
       "      <td>20201231</td>\n",
       "      <td>city.udaipur</td>\n",
       "      <td>Covid-19: Despite dip in cases; Rajasthan amon...</td>\n",
       "    </tr>\n",
       "    <tr>\n",
       "      <th>3424064</th>\n",
       "      <td>20201231</td>\n",
       "      <td>city.ajmer</td>\n",
       "      <td>Covid-19: Despite dip in cases; Rajasthan amon...</td>\n",
       "    </tr>\n",
       "    <tr>\n",
       "      <th>3424065</th>\n",
       "      <td>20201231</td>\n",
       "      <td>removed</td>\n",
       "      <td>Govt extends deadline for use of FASTag till F...</td>\n",
       "    </tr>\n",
       "    <tr>\n",
       "      <th>3424066</th>\n",
       "      <td>20201231</td>\n",
       "      <td>entertainment.bengali.movies.news</td>\n",
       "      <td>Celebs plan to party safely and responsibly on...</td>\n",
       "    </tr>\n",
       "  </tbody>\n",
       "</table>\n",
       "</div>"
      ],
      "text/plain": [
       "         publish_date                  headline_category  \\\n",
       "3424057      20201231                              india   \n",
       "3424058      20201231                      city.amritsar   \n",
       "3424059      20201231                     city.bengaluru   \n",
       "3424060      20201231                              india   \n",
       "3424061      20201231                     city.bengaluru   \n",
       "3424062      20201231                       city.jodhpur   \n",
       "3424063      20201231                       city.udaipur   \n",
       "3424064      20201231                         city.ajmer   \n",
       "3424065      20201231                            removed   \n",
       "3424066      20201231  entertainment.bengali.movies.news   \n",
       "\n",
       "                                             headline_text  \n",
       "3424057        50 NRIs reach Singhu; offer help to farmers  \n",
       "3424058  Navjot Singh Sidhu tweets apology; says 'wore ...  \n",
       "3424059  Azim Premji organisation's name misused to che...  \n",
       "3424060    Get govt nod to probe officials: MP to agencies  \n",
       "3424061  Peddler nabbed; 10kg ganja seized in Anantapur...  \n",
       "3424062  Covid-19: Despite dip in cases; Rajasthan amon...  \n",
       "3424063  Covid-19: Despite dip in cases; Rajasthan amon...  \n",
       "3424064  Covid-19: Despite dip in cases; Rajasthan amon...  \n",
       "3424065  Govt extends deadline for use of FASTag till F...  \n",
       "3424066  Celebs plan to party safely and responsibly on...  "
      ]
     },
     "execution_count": 49,
     "metadata": {},
     "output_type": "execute_result"
    }
   ],
   "source": [
    "df1.tail(10)"
   ]
  },
  {
   "cell_type": "code",
   "execution_count": 50,
   "metadata": {
    "colab": {
     "base_uri": "https://localhost:8080/",
     "height": 284
    },
    "id": "zsFWbenEf3sQ",
    "outputId": "3b5e7b9e-ae0b-43c2-ff4e-d611c826676b"
   },
   "outputs": [
    {
     "data": {
      "text/html": [
       "<div>\n",
       "<style scoped>\n",
       "    .dataframe tbody tr th:only-of-type {\n",
       "        vertical-align: middle;\n",
       "    }\n",
       "\n",
       "    .dataframe tbody tr th {\n",
       "        vertical-align: top;\n",
       "    }\n",
       "\n",
       "    .dataframe thead th {\n",
       "        text-align: right;\n",
       "    }\n",
       "</style>\n",
       "<table border=\"1\" class=\"dataframe\">\n",
       "  <thead>\n",
       "    <tr style=\"text-align: right;\">\n",
       "      <th></th>\n",
       "      <th>publish_date</th>\n",
       "    </tr>\n",
       "  </thead>\n",
       "  <tbody>\n",
       "    <tr>\n",
       "      <th>count</th>\n",
       "      <td>3.424067e+06</td>\n",
       "    </tr>\n",
       "    <tr>\n",
       "      <th>mean</th>\n",
       "      <td>2.012659e+07</td>\n",
       "    </tr>\n",
       "    <tr>\n",
       "      <th>std</th>\n",
       "      <td>4.981132e+04</td>\n",
       "    </tr>\n",
       "    <tr>\n",
       "      <th>min</th>\n",
       "      <td>2.001010e+07</td>\n",
       "    </tr>\n",
       "    <tr>\n",
       "      <th>25%</th>\n",
       "      <td>2.009113e+07</td>\n",
       "    </tr>\n",
       "    <tr>\n",
       "      <th>50%</th>\n",
       "      <td>2.013092e+07</td>\n",
       "    </tr>\n",
       "    <tr>\n",
       "      <th>75%</th>\n",
       "      <td>2.017013e+07</td>\n",
       "    </tr>\n",
       "    <tr>\n",
       "      <th>max</th>\n",
       "      <td>2.020123e+07</td>\n",
       "    </tr>\n",
       "  </tbody>\n",
       "</table>\n",
       "</div>"
      ],
      "text/plain": [
       "       publish_date\n",
       "count  3.424067e+06\n",
       "mean   2.012659e+07\n",
       "std    4.981132e+04\n",
       "min    2.001010e+07\n",
       "25%    2.009113e+07\n",
       "50%    2.013092e+07\n",
       "75%    2.017013e+07\n",
       "max    2.020123e+07"
      ]
     },
     "execution_count": 50,
     "metadata": {},
     "output_type": "execute_result"
    }
   ],
   "source": [
    "df1.describe()"
   ]
  },
  {
   "cell_type": "code",
   "execution_count": 51,
   "metadata": {
    "colab": {
     "base_uri": "https://localhost:8080/"
    },
    "id": "OUAxdF8Df9Y9",
    "outputId": "8dca1c7e-4cfd-46b1-cc6a-ce57d71cf327"
   },
   "outputs": [
    {
     "data": {
      "text/plain": [
       "publish_date                                                  20201231\n",
       "headline_category                                          young-turks\n",
       "headline_text        Why should girls have all the fun? Boys prep ...\n",
       "dtype: object"
      ]
     },
     "execution_count": 51,
     "metadata": {},
     "output_type": "execute_result"
    }
   ],
   "source": [
    "df1.max()"
   ]
  },
  {
   "cell_type": "code",
   "execution_count": 52,
   "metadata": {
    "colab": {
     "base_uri": "https://localhost:8080/"
    },
    "id": "MeSyheKsgD9F",
    "outputId": "3da48fd6-4ef9-4eb5-89e8-c2eb7d3737dc"
   },
   "outputs": [
    {
     "data": {
      "text/plain": [
       "publish_date                                20010102\n",
       "headline_category                   2008-in-pictures\n",
       "headline_text         15cr funds for two auditoriums\n",
       "dtype: object"
      ]
     },
     "execution_count": 52,
     "metadata": {},
     "output_type": "execute_result"
    }
   ],
   "source": [
    "df1.min()"
   ]
  },
  {
   "cell_type": "code",
   "execution_count": 53,
   "metadata": {
    "colab": {
     "base_uri": "https://localhost:8080/"
    },
    "id": "8bcMcHQ7gJ2J",
    "outputId": "b6994057-e44e-47da-e80e-d9d13bec9aee"
   },
   "outputs": [
    {
     "data": {
      "text/plain": [
       "array(['unknown', 'entertainment.hindi.bollywood', 'india', ...,\n",
       "       'elections.assembly-elections.bihar',\n",
       "       'astrology.horoscope.monthly', 'astrology.numerology-tarot'],\n",
       "      dtype=object)"
      ]
     },
     "execution_count": 53,
     "metadata": {},
     "output_type": "execute_result"
    }
   ],
   "source": [
    "df1['headline_category'].unique()"
   ]
  },
  {
   "cell_type": "code",
   "execution_count": 54,
   "metadata": {
    "colab": {
     "base_uri": "https://localhost:8080/"
    },
    "id": "j54JeTatgSqt",
    "outputId": "149c953b-f243-4a85-e71b-50e5ffd71f13"
   },
   "outputs": [
    {
     "data": {
      "text/plain": [
       "publish_date         False\n",
       "headline_category    False\n",
       "headline_text        False\n",
       "dtype: bool"
      ]
     },
     "execution_count": 54,
     "metadata": {},
     "output_type": "execute_result"
    }
   ],
   "source": [
    "#case of null values\n",
    "df1.isna().any()"
   ]
  },
  {
   "cell_type": "code",
   "execution_count": 55,
   "metadata": {
    "colab": {
     "base_uri": "https://localhost:8080/",
     "height": 77
    },
    "id": "K2g7w8uQgb2O",
    "outputId": "94e7208a-b438-4708-fa94-50ba32c6813f"
   },
   "outputs": [
    {
     "data": {
      "text/html": [
       "<div>\n",
       "<style scoped>\n",
       "    .dataframe tbody tr th:only-of-type {\n",
       "        vertical-align: middle;\n",
       "    }\n",
       "\n",
       "    .dataframe tbody tr th {\n",
       "        vertical-align: top;\n",
       "    }\n",
       "\n",
       "    .dataframe thead th {\n",
       "        text-align: right;\n",
       "    }\n",
       "</style>\n",
       "<table border=\"1\" class=\"dataframe\">\n",
       "  <thead>\n",
       "    <tr style=\"text-align: right;\">\n",
       "      <th></th>\n",
       "      <th>publish_date</th>\n",
       "    </tr>\n",
       "  </thead>\n",
       "  <tbody>\n",
       "    <tr>\n",
       "      <th>publish_date</th>\n",
       "      <td>1.0</td>\n",
       "    </tr>\n",
       "  </tbody>\n",
       "</table>\n",
       "</div>"
      ],
      "text/plain": [
       "              publish_date\n",
       "publish_date           1.0"
      ]
     },
     "execution_count": 55,
     "metadata": {},
     "output_type": "execute_result"
    }
   ],
   "source": [
    "df1.corr()"
   ]
  },
  {
   "cell_type": "code",
   "execution_count": 56,
   "metadata": {
    "colab": {
     "base_uri": "https://localhost:8080/",
     "height": 197
    },
    "id": "virzzSWFgfA7",
    "outputId": "7d5fc954-8bb3-469e-d407-2baf8b9ccd19"
   },
   "outputs": [
    {
     "data": {
      "image/png": "[encoded data removed]",
      "text/plain": [
       "<Figure size 180x180 with 2 Axes>"
      ]
     },
     "metadata": {},
     "output_type": "display_data"
    }
   ],
   "source": [
    "sns.set_palette('viridis')\n",
    "sns.pairplot(df1)\n",
    "plt.show()"
   ]
  },
  {
   "cell_type": "code",
   "execution_count": 57,
   "metadata": {
    "colab": {
     "base_uri": "https://localhost:8080/"
    },
    "id": "pq1UxoArgxZ6",
    "outputId": "aad72c84-4f70-4624-de06-f0c7dc16d412"
   },
   "outputs": [
    {
     "data": {
      "text/plain": [
       "Straight Answers                                              6723\n",
       "Cartoons                                                      1536\n",
       "Straight answers                                              1500\n",
       "Photogallery                                                  1353\n",
       "Your say                                                      1012\n",
       "                                                              ... \n",
       "Uttarakhand CM admits lapses in disaster management              1\n",
       "Prison authorities to organize marathon to feed the hungry       1\n",
       "Now; Mormugao Port Trust to become multi-commodity port          1\n",
       "Where is Srijit Mukherji these days?                             1\n",
       "Tihar eyes e-tail route for products                             1\n",
       "Name: headline_text, Length: 3168800, dtype: int64"
      ]
     },
     "execution_count": 57,
     "metadata": {},
     "output_type": "execute_result"
    }
   ],
   "source": [
    "df1['headline_text'].value_counts()"
   ]
  },
  {
   "cell_type": "code",
   "execution_count": 58,
   "metadata": {
    "colab": {
     "base_uri": "https://localhost:8080/"
    },
    "id": "gkY-o3Mng_32",
    "outputId": "163a0c42-74cc-418f-8791-8ac5a2ab366d"
   },
   "outputs": [
    {
     "data": {
      "text/plain": [
       "india                                           288541\n",
       "unknown                                         209582\n",
       "city.mumbai                                     134428\n",
       "city.delhi                                      127717\n",
       "business.india-business                         116761\n",
       "                                                 ...  \n",
       "advanis-us-visit                                     8\n",
       "health-case-studies                                  8\n",
       "entertainment.hindi.music.singer-of-the-week         8\n",
       "sports.tennis.top-stories.tennis-atp                 8\n",
       "indias-vision                                        8\n",
       "Name: headline_category, Length: 1013, dtype: int64"
      ]
     },
     "execution_count": 58,
     "metadata": {},
     "output_type": "execute_result"
    }
   ],
   "source": [
    "df1['headline_category'].value_counts()"
   ]
  },
  {
   "cell_type": "markdown",
   "metadata": {
    "id": "F68SbFxEhUhn"
   },
   "source": [
    "EDA (Exploratry data analysis) using NLP and NLTK tools"
   ]
  },
  {
   "cell_type": "code",
   "execution_count": 59,
   "metadata": {
    "colab": {
     "base_uri": "https://localhost:8080/",
     "height": 602
    },
    "id": "Nj9wQA-mhTEc",
    "outputId": "6c3fea64-31b7-4ed1-88cb-f81b3cbadf8d"
   },
   "outputs": [
    {
     "data": {
      "image/png": "[encoded data removed]",
      "text/plain": [
       "<Figure size 720x720 with 1 Axes>"
      ]
     },
     "metadata": {},
     "output_type": "display_data"
    }
   ],
   "source": [
    "df1['headline_text'].str.len().hist()\n",
    "plt.show()"
   ]
  },
  {
   "cell_type": "markdown",
   "metadata": {
    "id": "DdvLR9pFhrMB"
   },
   "source": [
    "Graph shows that news headlines range from 10 to 120 characters generally."
   ]
  },
  {
   "cell_type": "code",
   "execution_count": 60,
   "metadata": {
    "colab": {
     "base_uri": "https://localhost:8080/",
     "height": 602
    },
    "id": "FUb2Hz3vhnVt",
    "outputId": "b07e21e2-7b8d-4209-b341-ec8e85f15430"
   },
   "outputs": [
    {
     "data": {
      "image/png": "[encoded data removed]",
      "text/plain": [
       "<Figure size 720x720 with 1 Axes>"
      ]
     },
     "metadata": {},
     "output_type": "display_data"
    }
   ],
   "source": [
    "df1['headline_text'].str.split().\\\n",
    "  apply(lambda x : [len(i) for i in x]). \\\n",
    "  map(lambda x: np.mean(x)).hist()\n",
    "plt.show()"
   ]
  },
  {
   "cell_type": "markdown",
   "metadata": {
    "id": "FirAegnejnOV"
   },
   "source": [
    "The average word length ranges from 1 to 15"
   ]
  },
  {
   "cell_type": "code",
   "execution_count": 61,
   "metadata": {
    "colab": {
     "base_uri": "https://localhost:8080/"
    },
    "id": "oxf167azj3SR",
    "outputId": "c2ed3470-140d-4567-aa9c-ce1d6ef8c727"
   },
   "outputs": [
    {
     "name": "stderr",
     "output_type": "stream",
     "text": [
      "[nltk_data] Downloading package stopwords to\n",
      "[nltk_data]     C:\\Users\\meetc\\AppData\\Roaming\\nltk_data...\n",
      "[nltk_data]   Package stopwords is already up-to-date!\n"
     ]
    }
   ],
   "source": [
    "import nltk\n",
    "from nltk.corpus import stopwords\n",
    "nltk.download('stopwords')\n",
    "stop=set(stopwords.words('english'))"
   ]
  },
  {
   "cell_type": "code",
   "execution_count": 62,
   "metadata": {
    "id": "imHTeTxtkCdW"
   },
   "outputs": [],
   "source": [
    "corpus=[]\n",
    "new= df1['headline_text'].str.split()\n",
    "new=new.values.tolist()\n",
    "corpus=[word for i in new for word in i]\n",
    "\n",
    "from collections import defaultdict\n",
    "dic=defaultdict(int)\n",
    "for word in corpus:\n",
    "    if word in stop:\n",
    "        dic[word]+=1"
   ]
  },
  {
   "cell_type": "code",
   "execution_count": 63,
   "metadata": {
    "colab": {
     "base_uri": "https://localhost:8080/",
     "height": 592
    },
    "id": "LCbFfXjckcE_",
    "outputId": "609998b1-9dac-4b5e-8b45-04be56d402ea"
   },
   "outputs": [
    {
     "data": {
      "image/png": "[encoded data removed]",
      "text/plain": [
       "<Figure size 720x720 with 1 Axes>"
      ]
     },
     "metadata": {},
     "output_type": "display_data"
    }
   ],
   "source": [
    "from collections import Counter\n",
    "counter=Counter(corpus)\n",
    "most=counter.most_common()\n",
    "x, y= [], []\n",
    "for word,count in most[:40]:\n",
    "    if (word not in stop):\n",
    "        x.append(word)\n",
    "        y.append(count)\n",
    "        \n",
    "sns.barplot(x=y,y=x)\n",
    "plt.show()"
   ]
  },
  {
   "cell_type": "markdown",
   "metadata": {
    "id": "8EVTOMTBkp27"
   },
   "source": [
    "Ngram exploration"
   ]
  },
  {
   "cell_type": "code",
   "execution_count": 64,
   "metadata": {
    "colab": {
     "base_uri": "https://localhost:8080/"
    },
    "id": "SH3nXdLLksYI",
    "outputId": "c7f53899-5d88-4fd3-8c9b-9e75a231733f"
   },
   "outputs": [
    {
     "data": {
      "text/plain": [
       "[('I', 'went'), ('went', 'on'), ('on', 'a'), ('a', 'world'), ('world', 'Tour')]"
      ]
     },
     "execution_count": 64,
     "metadata": {},
     "output_type": "execute_result"
    }
   ],
   "source": [
    "from nltk.util import ngrams\n",
    "list(ngrams(['I' ,'went','on','a','world','Tour'],2))"
   ]
  },
  {
   "cell_type": "code",
   "execution_count": 65,
   "metadata": {
    "colab": {
     "base_uri": "https://localhost:8080/",
     "height": 592
    },
    "id": "WnAMnunDlHyD",
    "outputId": "3c6218e3-1222-4b90-c02f-c38a05349821"
   },
   "outputs": [
    {
     "data": {
      "image/png": "[encoded data removed]",
      "text/plain": [
       "<Figure size 720x720 with 1 Axes>"
      ]
     },
     "metadata": {},
     "output_type": "display_data"
    }
   ],
   "source": [
    "from sklearn.feature_extraction.text import CountVectorizer\n",
    "def get_top_ngram(corpus, n=None):\n",
    "    vec = CountVectorizer(ngram_range=(n, n)).fit(corpus)\n",
    "    bag_of_words = vec.transform(corpus)\n",
    "    sum_words = bag_of_words.sum(axis=0) \n",
    "    words_freq = [(word, sum_words[0, idx]) \n",
    "                  for word, idx in vec.vocabulary_.items()]\n",
    "    words_freq =sorted(words_freq, key = lambda x: x[1], reverse=True)\n",
    "    return words_freq[:10]\n",
    "top_n_bigrams=get_top_ngram(df1['headline_text'],2)[:10]\n",
    "x,y=map(list,zip(*top_n_bigrams))\n",
    "sns.barplot(x=y,y=x)\n",
    "plt.show()"
   ]
  },
  {
   "cell_type": "markdown",
   "metadata": {
    "id": "7NZw6pa_mefL"
   },
   "source": [
    "Using Textblob which is a python library for NLTK"
   ]
  },
  {
   "cell_type": "code",
   "execution_count": 66,
   "metadata": {
    "colab": {
     "base_uri": "https://localhost:8080/"
    },
    "id": "BSzsCP7mmoPw",
    "outputId": "982dcc00-ee43-44b7-ecdd-5cc6f9fdd58a"
   },
   "outputs": [
    {
     "data": {
      "text/plain": [
       "Sentiment(polarity=-0.2, subjectivity=0.0)"
      ]
     },
     "execution_count": 66,
     "metadata": {},
     "output_type": "execute_result"
    }
   ],
   "source": [
    "from textblob import TextBlob\n",
    "TextBlob('100 people killed in road accident').sentiment"
   ]
  },
  {
   "cell_type": "code",
   "execution_count": null,
   "metadata": {
    "id": "_3Rd965f5Jv8"
   },
   "outputs": [],
   "source": [
    "def polarity(text):\n",
    "    return TextBlob(text).sentiment.polarity\n",
    "df1['polarity_score']=df1['headline_text'].\\\n",
    "   apply(lambda x : polarity(x))\n",
    "df1['polarity_score'].hist()\n",
    "plt.show()"
   ]
  },
  {
   "cell_type": "markdown",
   "metadata": {
    "id": "xeGj4CS_5L47"
   },
   "source": [
    "![download (1).png](data:image/png;base64,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)"
   ]
  },
  {
   "cell_type": "markdown",
   "metadata": {
    "id": "Btw_deO85SyM"
   },
   "source": [
    "The graph indicates that majority of news headlines are neutral as polarity ranges between mainly 0.00 to 0.20"
   ]
  },
  {
   "cell_type": "code",
   "execution_count": 34,
   "metadata": {
    "id": "zSiHZObW5QoF"
   },
   "outputs": [
    {
     "data": {
      "image/png": "[encoded data removed]",
      "text/plain": [
       "<Figure size 720x720 with 1 Axes>"
      ]
     },
     "metadata": {},
     "output_type": "display_data"
    }
   ],
   "source": [
    "def sentiment(x):\n",
    "    if x<0:\n",
    "        return 'neg'\n",
    "    elif x==0:\n",
    "        return 'neu'\n",
    "    else:\n",
    "        return 'pos'\n",
    "    \n",
    "df1['polarity']=df1['polarity_score'].\\\n",
    "   map(lambda x: sentiment(x))\n",
    "plt.bar(df1.polarity.value_counts().index,\n",
    "        df1.polarity.value_counts())\n",
    "plt.show()"
   ]
  },
  {
   "cell_type": "markdown",
   "metadata": {
    "id": "xTZmdZjL5nOc"
   },
   "source": [
    "![download (2).png](data:image/png;base64,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)"
   ]
  },
  {
   "cell_type": "markdown",
   "metadata": {
    "id": "vLTX7qGR5sTV"
   },
   "source": [
    "Graph shows that about 70% news is neutral, 20% news is positive and about 10% news is negative."
   ]
  }
 ],
 "metadata": {
  "colab": {
   "collapsed_sections": [],
   "name": "TSF_Task#7.ipynb",
   "provenance": []
  },
  "kernelspec": {
   "display_name": "Python 3",
   "language": "python",
   "name": "python3"
  },
  "language_info": {
   "codemirror_mode": {
    "name": "ipython",
    "version": 3
   },
   "file_extension": ".py",
   "mimetype": "text/x-python",
   "name": "python",
   "nbconvert_exporter": "python",
   "pygments_lexer": "ipython3",
   "version": "3.7.6"
  }
 },
 "nbformat": 4,
 "nbformat_minor": 1
}
